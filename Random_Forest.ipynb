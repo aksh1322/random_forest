{
  "nbformat": 4,
  "nbformat_minor": 0,
  "metadata": {
    "colab": {
      "provenance": [],
      "gpuType": "T4",
      "authorship_tag": "ABX9TyNk4kQ//9w2Yu4ONANNemvE",
      "include_colab_link": true
    },
    "kernelspec": {
      "name": "python3",
      "display_name": "Python 3"
    },
    "language_info": {
      "name": "python"
    },
    "accelerator": "GPU"
  },
  "cells": [
    {
      "cell_type": "markdown",
      "metadata": {
        "id": "view-in-github",
        "colab_type": "text"
      },
      "source": [
        "<a href=\"https://colab.research.google.com/github/aksh1322/random_forest/blob/main/Random_Forest.ipynb\" target=\"_parent\"><img src=\"https://colab.research.google.com/assets/colab-badge.svg\" alt=\"Open In Colab\"/></a>"
      ]
    },
    {
      "cell_type": "code",
      "source": [
        "!pip install pandas scikit-learn joblib tqdm"
      ],
      "metadata": {
        "colab": {
          "base_uri": "https://localhost:8080/"
        },
        "collapsed": true,
        "id": "N84hB7TMC4P1",
        "outputId": "307b7c2c-dcc1-4ba2-ac3a-f632d61fd815"
      },
      "execution_count": null,
      "outputs": [
        {
          "output_type": "stream",
          "name": "stdout",
          "text": [
            "Requirement already satisfied: pandas in /usr/local/lib/python3.10/dist-packages (2.1.4)\n",
            "Requirement already satisfied: scikit-learn in /usr/local/lib/python3.10/dist-packages (1.3.2)\n",
            "Requirement already satisfied: joblib in /usr/local/lib/python3.10/dist-packages (1.4.2)\n",
            "Requirement already satisfied: tqdm in /usr/local/lib/python3.10/dist-packages (4.66.4)\n",
            "Requirement already satisfied: numpy<2,>=1.22.4 in /usr/local/lib/python3.10/dist-packages (from pandas) (1.26.4)\n",
            "Requirement already satisfied: python-dateutil>=2.8.2 in /usr/local/lib/python3.10/dist-packages (from pandas) (2.8.2)\n",
            "Requirement already satisfied: pytz>=2020.1 in /usr/local/lib/python3.10/dist-packages (from pandas) (2024.1)\n",
            "Requirement already satisfied: tzdata>=2022.1 in /usr/local/lib/python3.10/dist-packages (from pandas) (2024.1)\n",
            "Requirement already satisfied: scipy>=1.5.0 in /usr/local/lib/python3.10/dist-packages (from scikit-learn) (1.13.1)\n",
            "Requirement already satisfied: threadpoolctl>=2.0.0 in /usr/local/lib/python3.10/dist-packages (from scikit-learn) (3.5.0)\n",
            "Requirement already satisfied: six>=1.5 in /usr/local/lib/python3.10/dist-packages (from python-dateutil>=2.8.2->pandas) (1.16.0)\n"
          ]
        }
      ]
    },
    {
      "cell_type": "code",
      "source": [
        "import pandas as pd\n",
        "from sklearn.feature_extraction.text import TfidfVectorizer\n",
        "from sklearn.model_selection import train_test_split\n",
        "from sklearn.ensemble import RandomForestClassifier\n",
        "from sklearn.metrics import accuracy_score\n",
        "from sklearn.decomposition import TruncatedSVD\n",
        "import joblib\n",
        "from tqdm import tqdm\n",
        "import time\n",
        "# from google.colab import file"
      ],
      "metadata": {
        "id": "ZfE0r4TdDF1r"
      },
      "execution_count": 113,
      "outputs": []
    },
    {
      "cell_type": "code",
      "source": [
        "!pip install pandas scikit-learn joblib tqdm"
      ],
      "metadata": {
        "collapsed": true,
        "colab": {
          "base_uri": "https://localhost:8080/"
        },
        "id": "5Cq6nLSkL-gn",
        "outputId": "6d7d3f7b-4a28-4a33-a766-48dbf32094c2"
      },
      "execution_count": null,
      "outputs": [
        {
          "output_type": "stream",
          "name": "stdout",
          "text": [
            "Requirement already satisfied: pandas in /usr/local/lib/python3.10/dist-packages (2.1.4)\n",
            "Requirement already satisfied: scikit-learn in /usr/local/lib/python3.10/dist-packages (1.3.2)\n",
            "Requirement already satisfied: joblib in /usr/local/lib/python3.10/dist-packages (1.4.2)\n",
            "Requirement already satisfied: tqdm in /usr/local/lib/python3.10/dist-packages (4.66.4)\n",
            "Requirement already satisfied: numpy<2,>=1.22.4 in /usr/local/lib/python3.10/dist-packages (from pandas) (1.26.4)\n",
            "Requirement already satisfied: python-dateutil>=2.8.2 in /usr/local/lib/python3.10/dist-packages (from pandas) (2.8.2)\n",
            "Requirement already satisfied: pytz>=2020.1 in /usr/local/lib/python3.10/dist-packages (from pandas) (2024.1)\n",
            "Requirement already satisfied: tzdata>=2022.1 in /usr/local/lib/python3.10/dist-packages (from pandas) (2024.1)\n",
            "Requirement already satisfied: scipy>=1.5.0 in /usr/local/lib/python3.10/dist-packages (from scikit-learn) (1.13.1)\n",
            "Requirement already satisfied: threadpoolctl>=2.0.0 in /usr/local/lib/python3.10/dist-packages (from scikit-learn) (3.5.0)\n",
            "Requirement already satisfied: six>=1.5 in /usr/local/lib/python3.10/dist-packages (from python-dateutil>=2.8.2->pandas) (1.16.0)\n"
          ]
        }
      ]
    },
    {
      "cell_type": "code",
      "source": [
        "\n",
        "# Define a function to simulate progress\n",
        "def process_with_progress(iterable, description='Processing'):\n",
        "    for item in tqdm(iterable, desc=description, unit='item'):\n",
        "        time.sleep(0.01)  # Simulate processing time\n",
        "        yield item"
      ],
      "metadata": {
        "id": "2WZr1KUJN_Kv"
      },
      "execution_count": null,
      "outputs": []
    },
    {
      "cell_type": "code",
      "source": [
        "# Load the dataset\n",
        "data = pd.read_csv('V7_final_1.csv')\n"
      ],
      "metadata": {
        "id": "hMmoW7gADjYy"
      },
      "execution_count": null,
      "outputs": []
    },
    {
      "cell_type": "code",
      "source": [
        "# Display the first few rows of the dataset\n",
        "print(data.head())"
      ],
      "metadata": {
        "collapsed": true,
        "colab": {
          "base_uri": "https://localhost:8080/"
        },
        "id": "AqSTXDGiMY_S",
        "outputId": "e1f47ab1-846a-43b0-c05b-749a5f234213"
      },
      "execution_count": null,
      "outputs": [
        {
          "output_type": "stream",
          "name": "stdout",
          "text": [
            "                                             content  \\\n",
            "0  RT @crackstremshd: Watch South Carolina vs NC ...   \n",
            "1  RT @FerreNFT: LISTEN UP FARMERS 🚨 FARMING $MOJ...   \n",
            "2  She has a car , I walk I would of been to the ...   \n",
            "3  @EmmettLong8 As soon as they're ready to move ...   \n",
            "4  💥💥💥 QT @SantaSurfing: Travel a lot? New Federa...   \n",
            "\n",
            "  extra_author_attributes.name  \\\n",
            "0         NFL Live stream free   \n",
            "1   Revolting ❤️$BLOCK $BEYOND   \n",
            "2           ugly pretty( 0ܘܫ )   \n",
            "3           Hammond of Texas*🌽   \n",
            "4                   MissMaeMae   \n",
            "\n",
            "                 extra_author_attributes.description age_group  \n",
            "0  NFL Streams Online Free Link reddit . Watch NF...     18-24  \n",
            "1                                                NaN     45-54  \n",
            "2                               tired of being tired     25-34  \n",
            "3  •Renegade Lover of Jesus •Retired Airline Pilo...     55-64  \n",
            "4  ❤️ my LORD and Savior!🙏❤Wife, Momma of 2, MaeM...     25-34  \n"
          ]
        }
      ]
    },
    {
      "cell_type": "code",
      "source": [
        "# Combine text columns for vectorization\n",
        "data['text'] = data['content'].fillna('') + ' ' + data['extra_author_attributes.name'].fillna('') + ' ' + data['extra_author_attributes.description'].fillna('')"
      ],
      "metadata": {
        "id": "YyJvDqe1MeKJ"
      },
      "execution_count": null,
      "outputs": []
    },
    {
      "cell_type": "code",
      "source": [
        "# Check for missing values in 'text' column\n",
        "print(data['text'].isna().sum())  # Should print 0 if all NaNs are handled"
      ],
      "metadata": {
        "colab": {
          "base_uri": "https://localhost:8080/"
        },
        "id": "JBF7BhOaNFyB",
        "outputId": "85cc121d-9918-4da9-c0e0-af81ca290c26"
      },
      "execution_count": null,
      "outputs": [
        {
          "output_type": "stream",
          "name": "stdout",
          "text": [
            "0\n"
          ]
        }
      ]
    },
    {
      "cell_type": "code",
      "source": [
        "# Vectorize the text data\n",
        "vectorizer = TfidfVectorizer()\n",
        "X = vectorizer.fit_transform(data['text'])\n",
        "y = data['age_group']  # Assuming 'age_group' is the target variable\n"
      ],
      "metadata": {
        "collapsed": true,
        "id": "BGoTjkLfIMdS"
      },
      "execution_count": null,
      "outputs": []
    },
    {
      "cell_type": "code",
      "source": [
        "# Optional: Apply dimensionality reduction\n",
        "svd = TruncatedSVD(n_components=100)  # Adjust number of components\n",
        "X_reduced = svd.fit_transform(X)"
      ],
      "metadata": {
        "id": "7eURRGvoP2ll"
      },
      "execution_count": null,
      "outputs": []
    },
    {
      "cell_type": "code",
      "source": [
        "# Split the dataset into training and testing sets\n",
        "X_train, X_test, y_train, y_test = train_test_split(X, y, test_size=0.8, random_state=42)\n"
      ],
      "metadata": {
        "id": "hw01VEQEIPAi"
      },
      "execution_count": null,
      "outputs": []
    },
    {
      "cell_type": "code",
      "source": [
        "# Initialize Random Forest with parallel processing\n",
        "model = RandomForestClassifier(n_estimators=100, random_state=42, n_jobs=-1)"
      ],
      "metadata": {
        "id": "fAo6shmWQHma"
      },
      "execution_count": null,
      "outputs": []
    },
    {
      "cell_type": "code",
      "source": [
        "\n",
        "# Simulate training progress with a progress bar\n",
        "print(\"Training the model:\")\n",
        "for _ in process_with_progress(range(1), description='Model Training'):\n",
        "    model.fit(X_train, y_train)  # Training the model"
      ],
      "metadata": {
        "colab": {
          "base_uri": "https://localhost:8080/"
        },
        "id": "19l_PNHYOTqg",
        "outputId": "4d4d95fc-2de4-4285-f789-e4dd3edfc301"
      },
      "execution_count": null,
      "outputs": [
        {
          "output_type": "stream",
          "name": "stdout",
          "text": [
            "Training the model:\n"
          ]
        },
        {
          "output_type": "stream",
          "name": "stderr",
          "text": [
            "Model Training: 100%|██████████| 1/1 [20:12<00:00, 1212.22s/item]\n"
          ]
        }
      ]
    },
    {
      "cell_type": "code",
      "source": [
        "# Evaluate the model\n",
        "y_pred = model.predict(X_test)\n",
        "accuracy = accuracy_score(y_test, y_pred)\n",
        "print(f'Accuracy: {accuracy:.2f}')\n"
      ],
      "metadata": {
        "colab": {
          "base_uri": "https://localhost:8080/"
        },
        "collapsed": true,
        "id": "0LLp7bhTIX12",
        "outputId": "44116622-1074-4f22-ee5c-059ba9b4e017"
      },
      "execution_count": 98,
      "outputs": [
        {
          "output_type": "stream",
          "name": "stdout",
          "text": [
            "Accuracy: 0.41\n"
          ]
        }
      ]
    },
    {
      "cell_type": "code",
      "source": [
        "\n",
        "# Save the model and vectorizer\n",
        "joblib.dump(model, 'random_forest_model.pkl')\n",
        "joblib.dump(vectorizer, 'tfidf_vectorizer.pkl')\n",
        "joblib.dump(svd, 'svd_model.pkl')"
      ],
      "metadata": {
        "colab": {
          "base_uri": "https://localhost:8080/"
        },
        "id": "qypSfISxIZ67",
        "outputId": "fafeafad-02fc-4a7d-c259-d2fbdf5f491f"
      },
      "execution_count": 115,
      "outputs": [
        {
          "output_type": "execute_result",
          "data": {
            "text/plain": [
              "['svd_model.pkl']"
            ]
          },
          "metadata": {},
          "execution_count": 115
        }
      ]
    },
    {
      "cell_type": "code",
      "source": [
        "# Load the saved model and vectorizer\n",
        "model = joblib.load('random_forest_model.pkl')\n",
        "vectorizer = joblib.load('tfidf_vectorizer.pkl')\n",
        "svd = joblib.load('svd_model.pkl')"
      ],
      "metadata": {
        "id": "WInwQyuNIchU"
      },
      "execution_count": 116,
      "outputs": []
    },
    {
      "cell_type": "code",
      "source": [
        "# Load the test data\n",
        "test_data = pd.read_csv('test_data 1.csv')"
      ],
      "metadata": {
        "id": "8z9PCfEnIe66"
      },
      "execution_count": 118,
      "outputs": []
    },
    {
      "cell_type": "code",
      "source": [
        "# Combine text columns for vectorization\n",
        "test_data['text'] = test_data['content'].fillna('') + ' ' + test_data['extra_author_attributes.name'].fillna('') + ' ' + test_data['extra_author_attributes.description'].fillna('')\n"
      ],
      "metadata": {
        "id": "1VxtrB-kaLDL"
      },
      "execution_count": 119,
      "outputs": []
    },
    {
      "cell_type": "markdown",
      "source": [],
      "metadata": {
        "id": "HKsj2KsFp8r1"
      }
    },
    {
      "cell_type": "code",
      "source": [
        "# Preprocess and vectorize the test data\n",
        "X_new = vectorizer.transform(test_data['text'])\n",
        "X_new_reduced = svd.transform(X_new)"
      ],
      "metadata": {
        "collapsed": true,
        "id": "iR7dt5-bYWQd"
      },
      "execution_count": 120,
      "outputs": []
    },
    {
      "cell_type": "code",
      "source": [
        "# Make predictions\n",
        "predictions = model.predict(X_new)\n",
        "test_data['predicted_age'] = predictions"
      ],
      "metadata": {
        "id": "UYNfKypaIeb7"
      },
      "execution_count": 121,
      "outputs": []
    },
    {
      "cell_type": "code",
      "source": [
        "# Save the predictions to a new CSV file\n",
        "test_data.to_csv('predicted_ages.csv', index=False)"
      ],
      "metadata": {
        "id": "IzM-cHBGImgi"
      },
      "execution_count": 122,
      "outputs": []
    },
    {
      "cell_type": "code",
      "source": [
        "files.download('predicted_ages.csv')"
      ],
      "metadata": {
        "id": "x4hcISDlarJs",
        "colab": {
          "base_uri": "https://localhost:8080/",
          "height": 17
        },
        "outputId": "3327f590-fb64-42d2-e87a-cbe79be31848"
      },
      "execution_count": 123,
      "outputs": [
        {
          "output_type": "display_data",
          "data": {
            "text/plain": [
              "<IPython.core.display.Javascript object>"
            ],
            "application/javascript": [
              "\n",
              "    async function download(id, filename, size) {\n",
              "      if (!google.colab.kernel.accessAllowed) {\n",
              "        return;\n",
              "      }\n",
              "      const div = document.createElement('div');\n",
              "      const label = document.createElement('label');\n",
              "      label.textContent = `Downloading \"${filename}\": `;\n",
              "      div.appendChild(label);\n",
              "      const progress = document.createElement('progress');\n",
              "      progress.max = size;\n",
              "      div.appendChild(progress);\n",
              "      document.body.appendChild(div);\n",
              "\n",
              "      const buffers = [];\n",
              "      let downloaded = 0;\n",
              "\n",
              "      const channel = await google.colab.kernel.comms.open(id);\n",
              "      // Send a message to notify the kernel that we're ready.\n",
              "      channel.send({})\n",
              "\n",
              "      for await (const message of channel.messages) {\n",
              "        // Send a message to notify the kernel that we're ready.\n",
              "        channel.send({})\n",
              "        if (message.buffers) {\n",
              "          for (const buffer of message.buffers) {\n",
              "            buffers.push(buffer);\n",
              "            downloaded += buffer.byteLength;\n",
              "            progress.value = downloaded;\n",
              "          }\n",
              "        }\n",
              "      }\n",
              "      const blob = new Blob(buffers, {type: 'application/binary'});\n",
              "      const a = document.createElement('a');\n",
              "      a.href = window.URL.createObjectURL(blob);\n",
              "      a.download = filename;\n",
              "      div.appendChild(a);\n",
              "      a.click();\n",
              "      div.remove();\n",
              "    }\n",
              "  "
            ]
          },
          "metadata": {}
        },
        {
          "output_type": "display_data",
          "data": {
            "text/plain": [
              "<IPython.core.display.Javascript object>"
            ],
            "application/javascript": [
              "download(\"download_172b838b-7d44-4af3-b133-34382ce35725\", \"predicted_ages.csv\", 12344)"
            ]
          },
          "metadata": {}
        }
      ]
    }
  ]
}